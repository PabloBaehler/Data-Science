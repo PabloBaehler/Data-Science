{
 "cells": [
  {
   "cell_type": "markdown",
   "metadata": {
    "collapsed": true
   },
   "source": [
    "# Answering business questions using SQL"
   ]
  },
  {
   "cell_type": "markdown",
   "metadata": {},
   "source": [
    "First we import the database."
   ]
  },
  {
   "cell_type": "code",
   "execution_count": 19,
   "metadata": {
    "collapsed": false
   },
   "outputs": [
    {
     "data": {
      "text/plain": [
       "'Connected: None@chinook.db'"
      ]
     },
     "execution_count": 19,
     "metadata": {},
     "output_type": "execute_result"
    }
   ],
   "source": [
    "%%capture\n",
    "%load_ext sql\n",
    "%sql sqlite:///chinook.db"
   ]
  },
  {
   "cell_type": "markdown",
   "metadata": {},
   "source": [
    "## Overview of the Data"
   ]
  },
  {
   "cell_type": "code",
   "execution_count": 20,
   "metadata": {
    "collapsed": false
   },
   "outputs": [
    {
     "name": "stdout",
     "output_type": "stream",
     "text": [
      "Done.\n"
     ]
    },
    {
     "data": {
      "text/html": [
       "<table>\n",
       "    <tr>\n",
       "        <th>name</th>\n",
       "        <th>type</th>\n",
       "    </tr>\n",
       "    <tr>\n",
       "        <td>album</td>\n",
       "        <td>table</td>\n",
       "    </tr>\n",
       "    <tr>\n",
       "        <td>artist</td>\n",
       "        <td>table</td>\n",
       "    </tr>\n",
       "    <tr>\n",
       "        <td>customer</td>\n",
       "        <td>table</td>\n",
       "    </tr>\n",
       "    <tr>\n",
       "        <td>employee</td>\n",
       "        <td>table</td>\n",
       "    </tr>\n",
       "    <tr>\n",
       "        <td>genre</td>\n",
       "        <td>table</td>\n",
       "    </tr>\n",
       "    <tr>\n",
       "        <td>invoice</td>\n",
       "        <td>table</td>\n",
       "    </tr>\n",
       "    <tr>\n",
       "        <td>invoice_line</td>\n",
       "        <td>table</td>\n",
       "    </tr>\n",
       "    <tr>\n",
       "        <td>media_type</td>\n",
       "        <td>table</td>\n",
       "    </tr>\n",
       "    <tr>\n",
       "        <td>playlist</td>\n",
       "        <td>table</td>\n",
       "    </tr>\n",
       "    <tr>\n",
       "        <td>playlist_track</td>\n",
       "        <td>table</td>\n",
       "    </tr>\n",
       "    <tr>\n",
       "        <td>track</td>\n",
       "        <td>table</td>\n",
       "    </tr>\n",
       "    <tr>\n",
       "        <td>album_tracklist</td>\n",
       "        <td>view</td>\n",
       "    </tr>\n",
       "    <tr>\n",
       "        <td>info</td>\n",
       "        <td>view</td>\n",
       "    </tr>\n",
       "    <tr>\n",
       "        <td>invoice_first_track</td>\n",
       "        <td>view</td>\n",
       "    </tr>\n",
       "    <tr>\n",
       "        <td>megatable</td>\n",
       "        <td>view</td>\n",
       "    </tr>\n",
       "    <tr>\n",
       "        <td>invoice2</td>\n",
       "        <td>view</td>\n",
       "    </tr>\n",
       "    <tr>\n",
       "        <td>total_per_id_country</td>\n",
       "        <td>view</td>\n",
       "    </tr>\n",
       "    <tr>\n",
       "        <td>report</td>\n",
       "        <td>view</td>\n",
       "    </tr>\n",
       "</table>"
      ],
      "text/plain": [
       "[('album', 'table'),\n",
       " ('artist', 'table'),\n",
       " ('customer', 'table'),\n",
       " ('employee', 'table'),\n",
       " ('genre', 'table'),\n",
       " ('invoice', 'table'),\n",
       " ('invoice_line', 'table'),\n",
       " ('media_type', 'table'),\n",
       " ('playlist', 'table'),\n",
       " ('playlist_track', 'table'),\n",
       " ('track', 'table'),\n",
       " ('album_tracklist', 'view'),\n",
       " ('info', 'view'),\n",
       " ('invoice_first_track', 'view'),\n",
       " ('megatable', 'view'),\n",
       " ('invoice2', 'view'),\n",
       " ('total_per_id_country', 'view'),\n",
       " ('report', 'view')]"
      ]
     },
     "execution_count": 20,
     "metadata": {},
     "output_type": "execute_result"
    }
   ],
   "source": [
    "%%sql\n",
    "SELECT\n",
    "    name,\n",
    "    type\n",
    "FROM sqlite_master\n",
    "WHERE type IN (\"table\",\"view\");\n"
   ]
  },
  {
   "cell_type": "markdown",
   "metadata": {},
   "source": [
    "There are several tables containing information about the transactions made in a music store called \"Chinook\"."
   ]
  },
  {
   "cell_type": "markdown",
   "metadata": {},
   "source": [
    "## Selecting Albums to Purchase"
   ]
  },
  {
   "cell_type": "markdown",
   "metadata": {},
   "source": [
    "The Chinook record store has just signed a deal with a new record label, and you've been tasked with selecting the first three albums that will be added to the store, from a list of four. All four albums are by artists that don't have any tracks in the store right now - we have the artist names, and the genre of music they produce.\n",
    "\n",
    "- TASK: You'll need to write a query to find out which genres sell the most tracks in the USA, write up a summary of your findings, and make a recommendation for the three artists whose albums we should purchase for the store."
   ]
  },
  {
   "cell_type": "code",
   "execution_count": 21,
   "metadata": {
    "collapsed": false
   },
   "outputs": [
    {
     "name": "stdout",
     "output_type": "stream",
     "text": [
      "Done.\n",
      "Done.\n"
     ]
    },
    {
     "data": {
      "text/plain": [
       "[]"
      ]
     },
     "execution_count": 21,
     "metadata": {},
     "output_type": "execute_result"
    }
   ],
   "source": [
    "%%sql\n",
    "DROP VIEW invoice2;\n",
    "CREATE VIEW invoice2 AS\n",
    "SELECT c.customer_id,i.invoice_id\n",
    "            FROM customer c\n",
    "            LEFT JOIN invoice i ON i.customer_id=c.customer_id\n",
    "            WHERE c.country='USA';\n",
    "\n"
   ]
  },
  {
   "cell_type": "code",
   "execution_count": 22,
   "metadata": {
    "collapsed": false,
    "scrolled": true
   },
   "outputs": [
    {
     "name": "stdout",
     "output_type": "stream",
     "text": [
      "Done.\n"
     ]
    },
    {
     "data": {
      "text/html": [
       "<table>\n",
       "    <tr>\n",
       "        <th>genre</th>\n",
       "        <th>number_sold</th>\n",
       "        <th>percentage</th>\n",
       "    </tr>\n",
       "    <tr>\n",
       "        <td>Rock</td>\n",
       "        <td>561</td>\n",
       "        <td>53</td>\n",
       "    </tr>\n",
       "    <tr>\n",
       "        <td>Alternative &amp; Punk</td>\n",
       "        <td>130</td>\n",
       "        <td>12</td>\n",
       "    </tr>\n",
       "    <tr>\n",
       "        <td>Metal</td>\n",
       "        <td>124</td>\n",
       "        <td>11</td>\n",
       "    </tr>\n",
       "    <tr>\n",
       "        <td>R&amp;B/Soul</td>\n",
       "        <td>53</td>\n",
       "        <td>5</td>\n",
       "    </tr>\n",
       "    <tr>\n",
       "        <td>Blues</td>\n",
       "        <td>36</td>\n",
       "        <td>3</td>\n",
       "    </tr>\n",
       "    <tr>\n",
       "        <td>Alternative</td>\n",
       "        <td>35</td>\n",
       "        <td>3</td>\n",
       "    </tr>\n",
       "    <tr>\n",
       "        <td>Latin</td>\n",
       "        <td>22</td>\n",
       "        <td>2</td>\n",
       "    </tr>\n",
       "    <tr>\n",
       "        <td>Pop</td>\n",
       "        <td>22</td>\n",
       "        <td>2</td>\n",
       "    </tr>\n",
       "    <tr>\n",
       "        <td>Hip Hop/Rap</td>\n",
       "        <td>20</td>\n",
       "        <td>1</td>\n",
       "    </tr>\n",
       "    <tr>\n",
       "        <td>Jazz</td>\n",
       "        <td>14</td>\n",
       "        <td>1</td>\n",
       "    </tr>\n",
       "    <tr>\n",
       "        <td>Easy Listening</td>\n",
       "        <td>13</td>\n",
       "        <td>1</td>\n",
       "    </tr>\n",
       "    <tr>\n",
       "        <td>Reggae</td>\n",
       "        <td>6</td>\n",
       "        <td>0</td>\n",
       "    </tr>\n",
       "    <tr>\n",
       "        <td>Electronica/Dance</td>\n",
       "        <td>5</td>\n",
       "        <td>0</td>\n",
       "    </tr>\n",
       "    <tr>\n",
       "        <td>Classical</td>\n",
       "        <td>4</td>\n",
       "        <td>0</td>\n",
       "    </tr>\n",
       "    <tr>\n",
       "        <td>Heavy Metal</td>\n",
       "        <td>3</td>\n",
       "        <td>0</td>\n",
       "    </tr>\n",
       "    <tr>\n",
       "        <td>Soundtrack</td>\n",
       "        <td>2</td>\n",
       "        <td>0</td>\n",
       "    </tr>\n",
       "    <tr>\n",
       "        <td>TV Shows</td>\n",
       "        <td>1</td>\n",
       "        <td>0</td>\n",
       "    </tr>\n",
       "</table>"
      ],
      "text/plain": [
       "[('Rock', 561, 53),\n",
       " ('Alternative & Punk', 130, 12),\n",
       " ('Metal', 124, 11),\n",
       " ('R&B/Soul', 53, 5),\n",
       " ('Blues', 36, 3),\n",
       " ('Alternative', 35, 3),\n",
       " ('Latin', 22, 2),\n",
       " ('Pop', 22, 2),\n",
       " ('Hip Hop/Rap', 20, 1),\n",
       " ('Jazz', 14, 1),\n",
       " ('Easy Listening', 13, 1),\n",
       " ('Reggae', 6, 0),\n",
       " ('Electronica/Dance', 5, 0),\n",
       " ('Classical', 4, 0),\n",
       " ('Heavy Metal', 3, 0),\n",
       " ('Soundtrack', 2, 0),\n",
       " ('TV Shows', 1, 0)]"
      ]
     },
     "execution_count": 22,
     "metadata": {},
     "output_type": "execute_result"
    }
   ],
   "source": [
    "%%sql\n",
    "\n",
    "\n",
    "SELECT g.name genre,COUNT(g.name) number_sold, COUNT(g.name)*100/(SELECT COUNT(track_id) FROM invoice2 i2\n",
    "LEFT JOIN invoice_line il ON il.invoice_id=i2.invoice_id) percentage\n",
    "FROM invoice2 i2\n",
    "LEFT JOIN invoice_line il ON i2.invoice_id=il.invoice_id\n",
    "LEFT JOIN track t ON il.track_id=t.track_id\n",
    "LEFT JOIN genre g ON t.genre_id=g.genre_id\n",
    "GROUP BY g.name\n",
    "ORDER BY COUNT(g.name) DESC"
   ]
  },
  {
   "cell_type": "markdown",
   "metadata": {
    "collapsed": false
   },
   "source": [
    "It seems that not all hope is lost and the Chinook customers favourite genres are Rock, Alternative & Punk and Metal. The data indicates that from the 4 given albums the best candidates are \"Red Tone\"(Punk), \"Slim Jim Bites (Blues)\" and \"Meteor and the Girls (Pop)\". It would be wise to consider including more Rock albums since they make up 53% of the purchases."
   ]
  },
  {
   "cell_type": "markdown",
   "metadata": {
    "collapsed": true
   },
   "source": [
    "## Analyzing Employee Sales Performance"
   ]
  },
  {
   "cell_type": "markdown",
   "metadata": {},
   "source": [
    "- TASK: \n",
    "        1.Write a query that finds the total dollar amount of sales assigned to each sales support agent within the company. Add any extra attributes for that employee that you find are relevant to the analysis.\n",
    "\n",
    "        2.Write a short statement describing your results, and providing a possible interpretation."
   ]
  },
  {
   "cell_type": "code",
   "execution_count": 23,
   "metadata": {
    "collapsed": false
   },
   "outputs": [
    {
     "name": "stdout",
     "output_type": "stream",
     "text": [
      "Done.\n"
     ]
    },
    {
     "data": {
      "text/html": [
       "<table>\n",
       "    <tr>\n",
       "        <th>employee</th>\n",
       "        <th>total_sales</th>\n",
       "        <th>hire_date</th>\n",
       "    </tr>\n",
       "    <tr>\n",
       "        <td>3</td>\n",
       "        <td>1731.5099999999998</td>\n",
       "        <td>2017-04-01 00:00:00</td>\n",
       "    </tr>\n",
       "    <tr>\n",
       "        <td>4</td>\n",
       "        <td>1584.0000000000002</td>\n",
       "        <td>2017-05-03 00:00:00</td>\n",
       "    </tr>\n",
       "    <tr>\n",
       "        <td>5</td>\n",
       "        <td>1393.92</td>\n",
       "        <td>2017-10-17 00:00:00</td>\n",
       "    </tr>\n",
       "</table>"
      ],
      "text/plain": [
       "[(3, 1731.5099999999998, '2017-04-01 00:00:00'),\n",
       " (4, 1584.0000000000002, '2017-05-03 00:00:00'),\n",
       " (5, 1393.92, '2017-10-17 00:00:00')]"
      ]
     },
     "execution_count": 23,
     "metadata": {},
     "output_type": "execute_result"
    }
   ],
   "source": [
    "%%sql\n",
    "WITH customertotal AS(\n",
    "SELECT i.customer_id,SUM(i.total) total,c.support_rep_id\n",
    "FROM invoice i\n",
    "LEFT JOIN customer c ON i.customer_id=c.customer_id\n",
    "GROUP BY 1)\n",
    "SELECT support_rep_id employee, SUM(total) total_sales,e.hire_date\n",
    "FROM customertotal ct\n",
    "INNER JOIN employee e ON e.employee_id=ct.support_rep_id\n",
    "GROUP BY 1\n",
    "\n"
   ]
  },
  {
   "cell_type": "markdown",
   "metadata": {
    "collapsed": true
   },
   "source": [
    "While there are some differences in the performance of employees, they might be due to the time that they have been in the company."
   ]
  },
  {
   "cell_type": "markdown",
   "metadata": {},
   "source": [
    "## Analyzing Sales by Country"
   ]
  },
  {
   "cell_type": "markdown",
   "metadata": {},
   "source": [
    "- TASK: Write a query that collates data on purchases from different countries.\n",
    "Where a country has only one customer, collect them into an \"Other\" group.\n",
    "The results should be sorted by the total sales from highest to lowest, with the \"Other\" group at the very bottom.\n",
    "    - For each country, include:\n",
    "        - total number of customers\n",
    "        - total value of sales\n",
    "        - average value of sales per customer\n",
    "        - average order value"
   ]
  },
  {
   "cell_type": "code",
   "execution_count": 24,
   "metadata": {
    "collapsed": false
   },
   "outputs": [
    {
     "name": "stdout",
     "output_type": "stream",
     "text": [
      "Done.\n",
      "Done.\n"
     ]
    },
    {
     "data": {
      "text/plain": [
       "[]"
      ]
     },
     "execution_count": 24,
     "metadata": {},
     "output_type": "execute_result"
    }
   ],
   "source": [
    "%%sql\n",
    "\n",
    "DROP VIEW total_per_id_country;\n",
    "CREATE VIEW total_per_id_country AS\n",
    "SELECT c.customer_id,\n",
    "CASE\n",
    "WHEN (SELECT count(*) \n",
    "      FROM customer\n",
    "      WHERE country=c.country)=1 THEN 'Other'\n",
    "      ELSE c.country\n",
    "      END AS country,\n",
    "i.total cust_total,\n",
    "i.total purchase,\n",
    "i.invoice_id\n",
    "\n",
    "FROM customer c\n",
    "LEFT JOIN invoice i ON c.customer_id=i.customer_id\n",
    "ORDER BY country\n"
   ]
  },
  {
   "cell_type": "code",
   "execution_count": 25,
   "metadata": {
    "collapsed": false
   },
   "outputs": [
    {
     "name": "stdout",
     "output_type": "stream",
     "text": [
      "Done.\n",
      "Done.\n"
     ]
    },
    {
     "data": {
      "text/plain": [
       "[]"
      ]
     },
     "execution_count": 25,
     "metadata": {},
     "output_type": "execute_result"
    }
   ],
   "source": [
    "%%sql\n",
    "DROP VIEW report;\n",
    "CREATE VIEW report AS\n",
    "SELECT \n",
    "ttid.country country,\n",
    "COUNT(distinct ttid.customer_id) num_customers,\n",
    "SUM(ttid.cust_total) total_sales,\n",
    "SUM(ttid.cust_total)/COUNT(distinct ttid.customer_id) avg_per_cust,\n",
    "SUM(ttid.cust_total)/COUNT(distinct ttid.invoice_id) avg_order\n",
    "\n",
    "\n",
    "\n",
    "FROM total_per_id_country ttid\n",
    "\n",
    "GROUP BY 1\n",
    "ORDER BY num_customers DESC"
   ]
  },
  {
   "cell_type": "code",
   "execution_count": 26,
   "metadata": {
    "collapsed": false
   },
   "outputs": [
    {
     "name": "stdout",
     "output_type": "stream",
     "text": [
      "Done.\n"
     ]
    },
    {
     "data": {
      "text/html": [
       "<table>\n",
       "    <tr>\n",
       "        <th>country</th>\n",
       "        <th>num_customers</th>\n",
       "        <th>total_sales</th>\n",
       "        <th>avg_per_cust</th>\n",
       "        <th>avg_order</th>\n",
       "        <th>sort</th>\n",
       "    </tr>\n",
       "    <tr>\n",
       "        <td>USA</td>\n",
       "        <td>13</td>\n",
       "        <td>1040.4900000000005</td>\n",
       "        <td>80.03769230769234</td>\n",
       "        <td>7.942671755725194</td>\n",
       "        <td>0</td>\n",
       "    </tr>\n",
       "    <tr>\n",
       "        <td>Canada</td>\n",
       "        <td>8</td>\n",
       "        <td>535.59</td>\n",
       "        <td>66.94875</td>\n",
       "        <td>7.047236842105264</td>\n",
       "        <td>0</td>\n",
       "    </tr>\n",
       "    <tr>\n",
       "        <td>Brazil</td>\n",
       "        <td>5</td>\n",
       "        <td>427.6799999999999</td>\n",
       "        <td>85.53599999999997</td>\n",
       "        <td>7.011147540983605</td>\n",
       "        <td>0</td>\n",
       "    </tr>\n",
       "    <tr>\n",
       "        <td>France</td>\n",
       "        <td>5</td>\n",
       "        <td>389.07000000000005</td>\n",
       "        <td>77.81400000000001</td>\n",
       "        <td>7.781400000000001</td>\n",
       "        <td>0</td>\n",
       "    </tr>\n",
       "    <tr>\n",
       "        <td>Germany</td>\n",
       "        <td>4</td>\n",
       "        <td>334.61999999999995</td>\n",
       "        <td>83.65499999999999</td>\n",
       "        <td>8.161463414634145</td>\n",
       "        <td>0</td>\n",
       "    </tr>\n",
       "    <tr>\n",
       "        <td>United Kingdom</td>\n",
       "        <td>3</td>\n",
       "        <td>245.52</td>\n",
       "        <td>81.84</td>\n",
       "        <td>8.768571428571429</td>\n",
       "        <td>0</td>\n",
       "    </tr>\n",
       "    <tr>\n",
       "        <td>Czech Republic</td>\n",
       "        <td>2</td>\n",
       "        <td>273.23999999999995</td>\n",
       "        <td>136.61999999999998</td>\n",
       "        <td>9.107999999999999</td>\n",
       "        <td>0</td>\n",
       "    </tr>\n",
       "    <tr>\n",
       "        <td>India</td>\n",
       "        <td>2</td>\n",
       "        <td>183.14999999999995</td>\n",
       "        <td>91.57499999999997</td>\n",
       "        <td>8.72142857142857</td>\n",
       "        <td>0</td>\n",
       "    </tr>\n",
       "    <tr>\n",
       "        <td>Portugal</td>\n",
       "        <td>2</td>\n",
       "        <td>185.13</td>\n",
       "        <td>92.565</td>\n",
       "        <td>6.3837931034482756</td>\n",
       "        <td>0</td>\n",
       "    </tr>\n",
       "    <tr>\n",
       "        <td>Other</td>\n",
       "        <td>15</td>\n",
       "        <td>1094.94</td>\n",
       "        <td>72.99600000000001</td>\n",
       "        <td>7.448571428571429</td>\n",
       "        <td>1</td>\n",
       "    </tr>\n",
       "</table>"
      ],
      "text/plain": [
       "[('USA', 13, 1040.4900000000005, 80.03769230769234, 7.942671755725194, 0),\n",
       " ('Canada', 8, 535.59, 66.94875, 7.047236842105264, 0),\n",
       " ('Brazil', 5, 427.6799999999999, 85.53599999999997, 7.011147540983605, 0),\n",
       " ('France', 5, 389.07000000000005, 77.81400000000001, 7.781400000000001, 0),\n",
       " ('Germany', 4, 334.61999999999995, 83.65499999999999, 8.161463414634145, 0),\n",
       " ('United Kingdom', 3, 245.52, 81.84, 8.768571428571429, 0),\n",
       " ('Czech Republic', 2, 273.23999999999995, 136.61999999999998, 9.107999999999999, 0),\n",
       " ('India', 2, 183.14999999999995, 91.57499999999997, 8.72142857142857, 0),\n",
       " ('Portugal', 2, 185.13, 92.565, 6.3837931034482756, 0),\n",
       " ('Other', 15, 1094.94, 72.99600000000001, 7.448571428571429, 1)]"
      ]
     },
     "execution_count": 26,
     "metadata": {},
     "output_type": "execute_result"
    }
   ],
   "source": [
    "%%sql\n",
    "SELECT *\n",
    "FROM (\n",
    "SELECT *,CASE\n",
    "             WHEN report.country='Other' THEN 1\n",
    "             ELSE 0\n",
    "             END AS sort\n",
    "FROM report)\n",
    "ORDER BY sort ASC\n"
   ]
  },
  {
   "cell_type": "markdown",
   "metadata": {},
   "source": [
    "## Albums vs Individual Tracks"
   ]
  },
  {
   "cell_type": "markdown",
   "metadata": {},
   "source": [
    "TASK:\n",
    "- Write a query that categorizes each invoice as either an album purchase or not, and calculates the following summary statistics:\n",
    "    - Number of invoices\n",
    "    - Percentage of invoices\n",
    "- Write one to two sentences explaining your findings, and making a prospective recommendation on whether the Chinook store should continue to buy full albums from record companies"
   ]
  },
  {
   "cell_type": "code",
   "execution_count": 27,
   "metadata": {
    "collapsed": false
   },
   "outputs": [
    {
     "name": "stdout",
     "output_type": "stream",
     "text": [
      "(sqlite3.OperationalError) table album_tracklist already exists\n",
      "[SQL: CREATE VIEW album_tracklist AS\n",
      "SELECT t.album_id,t.track_id\n",
      "FROM track t\n",
      "ORDER BY 1]\n",
      "(Background on this error at: http://sqlalche.me/e/13/e3q8)\n"
     ]
    }
   ],
   "source": [
    "%%sql\n",
    "\n",
    "CREATE VIEW album_tracklist AS\n",
    "SELECT t.album_id,t.track_id\n",
    "FROM track t\n",
    "ORDER BY 1"
   ]
  },
  {
   "cell_type": "code",
   "execution_count": 28,
   "metadata": {
    "collapsed": false
   },
   "outputs": [
    {
     "name": "stdout",
     "output_type": "stream",
     "text": [
      "(sqlite3.OperationalError) table info already exists\n",
      "[SQL: CREATE VIEW info AS\n",
      "SELECT il.invoice_id,t.track_id,t.album_id\n",
      "FROM invoice_line il\n",
      "LEFT JOIN track t on t.track_id=il.track_id;]\n",
      "(Background on this error at: http://sqlalche.me/e/13/e3q8)\n"
     ]
    }
   ],
   "source": [
    "%%sql\n",
    "CREATE VIEW info AS\n",
    "SELECT il.invoice_id,t.track_id,t.album_id\n",
    "FROM invoice_line il\n",
    "LEFT JOIN track t on t.track_id=il.track_id;\n"
   ]
  },
  {
   "cell_type": "code",
   "execution_count": 29,
   "metadata": {
    "collapsed": false
   },
   "outputs": [
    {
     "name": "stdout",
     "output_type": "stream",
     "text": [
      "(sqlite3.OperationalError) table invoice_first_track already exists\n",
      "[SQL: CREATE VIEW invoice_first_track AS \n",
      "SELECT\n",
      "    il.invoice_id AS invoice_id,\n",
      "    MIN(il.track_id) AS first_track_id\n",
      "FROM invoice_line il\n",
      "\n",
      "GROUP BY 1]\n",
      "(Background on this error at: http://sqlalche.me/e/13/e3q8)\n"
     ]
    }
   ],
   "source": [
    "%%sql\n",
    "CREATE VIEW invoice_first_track AS \n",
    "SELECT\n",
    "    il.invoice_id AS invoice_id,\n",
    "    MIN(il.track_id) AS first_track_id\n",
    "FROM invoice_line il\n",
    "\n",
    "GROUP BY 1\n",
    "\n"
   ]
  },
  {
   "cell_type": "code",
   "execution_count": null,
   "metadata": {
    "collapsed": false
   },
   "outputs": [],
   "source": [
    "\n",
    "\n",
    "\n"
   ]
  },
  {
   "cell_type": "code",
   "execution_count": 30,
   "metadata": {
    "collapsed": false
   },
   "outputs": [
    {
     "name": "stdout",
     "output_type": "stream",
     "text": [
      "(sqlite3.OperationalError) table megatable already exists\n",
      "[SQL: CREATE VIEW megatable AS\n",
      "SELECT il.invoice_id,at.track_id,at.album_id\n",
      "FROM invoice_line il\n",
      "LEFT JOIN album_tracklist at ON at.track_id=il.track_id\n",
      "ORDER BY 1;]\n",
      "(Background on this error at: http://sqlalche.me/e/13/e3q8)\n"
     ]
    }
   ],
   "source": [
    "%%sql\n",
    "CREATE VIEW megatable AS\n",
    "SELECT il.invoice_id,at.track_id,at.album_id\n",
    "FROM invoice_line il\n",
    "LEFT JOIN album_tracklist at ON at.track_id=il.track_id\n",
    "ORDER BY 1;\n",
    "\n",
    "\n"
   ]
  },
  {
   "cell_type": "code",
   "execution_count": 44,
   "metadata": {
    "collapsed": false
   },
   "outputs": [
    {
     "name": "stdout",
     "output_type": "stream",
     "text": [
      "Done.\n"
     ]
    },
    {
     "data": {
      "text/html": [
       "<table>\n",
       "    <tr>\n",
       "        <th>album_purchase</th>\n",
       "        <th>number_of_invoices</th>\n",
       "        <th>percent</th>\n",
       "    </tr>\n",
       "    <tr>\n",
       "        <td>no</td>\n",
       "        <td>500</td>\n",
       "        <td>0.8143322475570033</td>\n",
       "    </tr>\n",
       "    <tr>\n",
       "        <td>yes</td>\n",
       "        <td>114</td>\n",
       "        <td>0.18566775244299674</td>\n",
       "    </tr>\n",
       "</table>"
      ],
      "text/plain": [
       "[('no', 500, 0.8143322475570033), ('yes', 114, 0.18566775244299674)]"
      ]
     },
     "execution_count": 44,
     "metadata": {},
     "output_type": "execute_result"
    }
   ],
   "source": [
    "%%sql\n",
    "WITH invoice_first_track AS (\n",
    "  SELECT\n",
    "    il.invoice_id AS invoice_id,\n",
    "    MIN(il.track_id) AS first_track_id\n",
    "  FROM\n",
    "    invoice_line il\n",
    "  GROUP BY\n",
    "    1\n",
    ")\n",
    "\n",
    "\n",
    "SELECT\n",
    "  album_purchase,\n",
    "  COUNT(invoice_id) AS number_of_invoices,\n",
    "  CAST(COUNT(invoice_id) AS FLOAT) / (\n",
    "    SELECT COUNT(*) FROM invoice\n",
    "  ) AS percent\n",
    "FROM\n",
    "  (\n",
    "    SELECT\n",
    "      ifs.*,\n",
    "      CASE\n",
    "       \n",
    "        WHEN (\n",
    "          SELECT\n",
    "            t.track_id\n",
    "          FROM\n",
    "            track t\n",
    "          WHERE\n",
    "            t.album_id = (\n",
    "              SELECT\n",
    "                t2.album_id\n",
    "              FROM\n",
    "                track t2\n",
    "              WHERE\n",
    "                t2.track_id = ifs.first_track_id\n",
    "            )\n",
    "          EXCEPT\n",
    "          SELECT\n",
    "            il2.track_id\n",
    "          FROM\n",
    "            invoice_line il2\n",
    "          WHERE\n",
    "            il2.invoice_id = ifs.invoice_id\n",
    "        ) IS NULL\n",
    "        AND (\n",
    "          SELECT\n",
    "            il2.track_id\n",
    "          FROM\n",
    "            invoice_line il2\n",
    "          WHERE\n",
    "            il2.invoice_id = ifs.invoice_id\n",
    "          EXCEPT\n",
    "          SELECT\n",
    "            t.track_id\n",
    "          FROM\n",
    "            track t\n",
    "          WHERE\n",
    "            t.album_id = (\n",
    "              SELECT\n",
    "                t2.album_id\n",
    "              FROM\n",
    "                track t2\n",
    "              WHERE\n",
    "                t2.track_id = ifs.first_track_id\n",
    "            )\n",
    "        ) IS NULL\n",
    "        THEN \"yes\"\n",
    "        ELSE \"no\"\n",
    "      END AS album_purchase\n",
    "    FROM\n",
    "      invoice_first_track ifs\n",
    "  ) subquery\n",
    "\n",
    "GROUP BY\n",
    "  album_purchase;\n"
   ]
  },
  {
   "cell_type": "markdown",
   "metadata": {
    "collapsed": true
   },
   "source": [
    "Album purchases account for 18.6% of purchases. Based on this data, I would recommend against purchasing only select tracks from albums from record companies, since there is potential to lose one fifth of revenue\n"
   ]
  },
  {
   "cell_type": "code",
   "execution_count": null,
   "metadata": {
    "collapsed": true
   },
   "outputs": [],
   "source": []
  }
 ],
 "metadata": {
  "kernelspec": {
   "display_name": "Python 3",
   "language": "python",
   "name": "python3"
  },
  "language_info": {
   "codemirror_mode": {
    "name": "ipython",
    "version": 3
   },
   "file_extension": ".py",
   "mimetype": "text/x-python",
   "name": "python",
   "nbconvert_exporter": "python",
   "pygments_lexer": "ipython3",
   "version": "3.4.3"
  }
 },
 "nbformat": 4,
 "nbformat_minor": 2
}
