{
 "cells": [
  {
   "cell_type": "markdown",
   "metadata": {},
   "source": [
    "# 21 Years of the Euro\n",
    "\n",
    "Throughout this project we will compare the exchange rate of the Euro against the US Dollar along a 21 year period.\n"
   ]
  },
  {
   "cell_type": "code",
   "execution_count": 2,
   "metadata": {},
   "outputs": [
    {
     "name": "stdout",
     "output_type": "stream",
     "text": [
      "  Period\\Unit: [Australian dollar ] [Bulgarian lev ] [Brazilian real ]  \\\n",
      "0   2021-01-08               1.5758           1.9558            6.5748   \n",
      "1   2021-01-07               1.5836           1.9558            6.5172   \n",
      "2   2021-01-06               1.5824           1.9558            6.5119   \n",
      "3   2021-01-05               1.5927           1.9558            6.5517   \n",
      "4   2021-01-04               1.5928           1.9558            6.3241   \n",
      "\n",
      "  [Canadian dollar ] [Swiss franc ] [Chinese yuan renminbi ] [Cypriot pound ]  \\\n",
      "0             1.5543         1.0827                   7.9184              NaN   \n",
      "1             1.5601         1.0833                   7.9392              NaN   \n",
      "2             1.5640         1.0821                   7.9653              NaN   \n",
      "3             1.5651         1.0803                   7.9315              NaN   \n",
      "4             1.5621         1.0811                   7.9484              NaN   \n",
      "\n",
      "  [Czech koruna ] [Danish krone ]  ... [Romanian leu ] [Russian rouble ]  \\\n",
      "0          26.163          7.4369  ...          4.8708           90.8000   \n",
      "1          26.147          7.4392  ...          4.8712           91.2000   \n",
      "2          26.145          7.4393  ...          4.8720           90.8175   \n",
      "3          26.227          7.4387  ...          4.8721           91.6715   \n",
      "4          26.141          7.4379  ...          4.8713           90.3420   \n",
      "\n",
      "  [Swedish krona ] [Singapore dollar ] [Slovenian tolar ] [Slovak koruna ]  \\\n",
      "0          10.0510              1.6228                NaN              NaN   \n",
      "1          10.0575              1.6253                NaN              NaN   \n",
      "2          10.0653              1.6246                NaN              NaN   \n",
      "3          10.0570              1.6180                NaN              NaN   \n",
      "4          10.0895              1.6198                NaN              NaN   \n",
      "\n",
      "  [Thai baht ] [Turkish lira ] [US dollar ]  [South African rand ]  \n",
      "0      36.8480          9.0146       1.2250                18.7212  \n",
      "1      36.8590          8.9987       1.2276                18.7919  \n",
      "2      36.9210          9.0554       1.2338                18.5123  \n",
      "3      36.7760          9.0694       1.2271                18.4194  \n",
      "4      36.7280          9.0579       1.2296                17.9214  \n",
      "\n",
      "[5 rows x 41 columns]\n",
      "     Period\\Unit: [Australian dollar ] [Bulgarian lev ] [Brazilian real ]  \\\n",
      "5694   1999-01-08               1.8406              NaN               NaN   \n",
      "5695   1999-01-07               1.8474              NaN               NaN   \n",
      "5696   1999-01-06               1.8820              NaN               NaN   \n",
      "5697   1999-01-05               1.8944              NaN               NaN   \n",
      "5698   1999-01-04               1.9100              NaN               NaN   \n",
      "\n",
      "     [Canadian dollar ] [Swiss franc ] [Chinese yuan renminbi ]  \\\n",
      "5694             1.7643         1.6138                      NaN   \n",
      "5695             1.7602         1.6165                      NaN   \n",
      "5696             1.7711         1.6116                      NaN   \n",
      "5697             1.7965         1.6123                      NaN   \n",
      "5698             1.8004         1.6168                      NaN   \n",
      "\n",
      "     [Cypriot pound ] [Czech koruna ] [Danish krone ]  ... [Romanian leu ]  \\\n",
      "5694          0.58187          34.938          7.4433  ...          1.3143   \n",
      "5695          0.58187          34.886          7.4431  ...          1.3092   \n",
      "5696          0.58200          34.850          7.4452  ...          1.3168   \n",
      "5697          0.58230          34.917          7.4495  ...          1.3168   \n",
      "5698          0.58231          35.107          7.4501  ...          1.3111   \n",
      "\n",
      "     [Russian rouble ] [Swedish krona ] [Singapore dollar ]  \\\n",
      "5694           27.2075           9.1650              1.9537   \n",
      "5695           26.9876           9.1800              1.9436   \n",
      "5696           27.4315           9.3050              1.9699   \n",
      "5697           26.5876           9.4025              1.9655   \n",
      "5698           25.2875           9.4696              1.9554   \n",
      "\n",
      "     [Slovenian tolar ] [Slovak koruna ] [Thai baht ] [Turkish lira ]  \\\n",
      "5694           188.8400           42.560      42.5590          0.3718   \n",
      "5695           188.8000           42.765      42.1678          0.3701   \n",
      "5696           188.7000           42.778      42.6949          0.3722   \n",
      "5697           188.7750           42.848      42.5048          0.3728   \n",
      "5698           189.0450           42.991      42.6799          0.3723   \n",
      "\n",
      "     [US dollar ]  [South African rand ]  \n",
      "5694       1.1659                 6.7855  \n",
      "5695       1.1632                 6.8283  \n",
      "5696       1.1743                 6.7307  \n",
      "5697       1.1790                 6.7975  \n",
      "5698       1.1789                 6.9358  \n",
      "\n",
      "[5 rows x 41 columns]\n"
     ]
    }
   ],
   "source": [
    "import pandas as pd\n",
    "import matplotlib.pyplot as plt\n",
    "%matplotlib inline\n",
    "\n",
    "exchange_rates=pd.read_csv('euro-daily-hist_1999_2020.csv')\n",
    "\n",
    "print(exchange_rates.head(5))\n",
    "print(exchange_rates.tail(5))"
   ]
  },
  {
   "cell_type": "code",
   "execution_count": 3,
   "metadata": {},
   "outputs": [
    {
     "name": "stdout",
     "output_type": "stream",
     "text": [
      "<class 'pandas.core.frame.DataFrame'>\n",
      "RangeIndex: 5699 entries, 0 to 5698\n",
      "Data columns (total 41 columns):\n",
      " #   Column                    Non-Null Count  Dtype  \n",
      "---  ------                    --------------  -----  \n",
      " 0   Period\\Unit:              5699 non-null   object \n",
      " 1   [Australian dollar ]      5699 non-null   object \n",
      " 2   [Bulgarian lev ]          5297 non-null   object \n",
      " 3   [Brazilian real ]         5431 non-null   object \n",
      " 4   [Canadian dollar ]        5699 non-null   object \n",
      " 5   [Swiss franc ]            5699 non-null   object \n",
      " 6   [Chinese yuan renminbi ]  5431 non-null   object \n",
      " 7   [Cypriot pound ]          2346 non-null   object \n",
      " 8   [Czech koruna ]           5699 non-null   object \n",
      " 9   [Danish krone ]           5699 non-null   object \n",
      " 10  [Estonian kroon ]         3130 non-null   object \n",
      " 11  [UK pound sterling ]      5699 non-null   object \n",
      " 12  [Greek drachma ]          520 non-null    object \n",
      " 13  [Hong Kong dollar ]       5699 non-null   object \n",
      " 14  [Croatian kuna ]          5431 non-null   object \n",
      " 15  [Hungarian forint ]       5699 non-null   object \n",
      " 16  [Indonesian rupiah ]      5699 non-null   object \n",
      " 17  [Israeli shekel ]         5431 non-null   object \n",
      " 18  [Indian rupee ]           5431 non-null   object \n",
      " 19  [Iceland krona ]          3292 non-null   float64\n",
      " 20  [Japanese yen ]           5699 non-null   object \n",
      " 21  [Korean won ]             5699 non-null   object \n",
      " 22  [Lithuanian litas ]       4159 non-null   object \n",
      " 23  [Latvian lats ]           3904 non-null   object \n",
      " 24  [Maltese lira ]           2346 non-null   object \n",
      " 25  [Mexican peso ]           5699 non-null   object \n",
      " 26  [Malaysian ringgit ]      5699 non-null   object \n",
      " 27  [Norwegian krone ]        5699 non-null   object \n",
      " 28  [New Zealand dollar ]     5699 non-null   object \n",
      " 29  [Philippine peso ]        5699 non-null   object \n",
      " 30  [Polish zloty ]           5699 non-null   object \n",
      " 31  [Romanian leu ]           5637 non-null   float64\n",
      " 32  [Russian rouble ]         5699 non-null   object \n",
      " 33  [Swedish krona ]          5699 non-null   object \n",
      " 34  [Singapore dollar ]       5699 non-null   object \n",
      " 35  [Slovenian tolar ]        2085 non-null   object \n",
      " 36  [Slovak koruna ]          2608 non-null   object \n",
      " 37  [Thai baht ]              5699 non-null   object \n",
      " 38  [Turkish lira ]           5637 non-null   float64\n",
      " 39  [US dollar ]              5699 non-null   object \n",
      " 40  [South African rand ]     5699 non-null   object \n",
      "dtypes: float64(3), object(38)\n",
      "memory usage: 1.8+ MB\n"
     ]
    }
   ],
   "source": [
    "exchange_rates.info()"
   ]
  },
  {
   "cell_type": "markdown",
   "metadata": {},
   "source": [
    "This dataset contains 5699 rows and 41 columns. There are several null values. the values are a mixture of strings and floats."
   ]
  },
  {
   "cell_type": "code",
   "execution_count": 4,
   "metadata": {},
   "outputs": [],
   "source": [
    "#This code was provided by the course. Nevertheless with a quick google search\n",
    "#it is easy to understand what the code does.\n",
    "# rename [US dollar] to US_dollar, the same with Period/Unit.\n",
    "#change the Time column to a datetime data type\n",
    "#sort the Time values in ascending order.\n",
    "#reset the indexes, dropping the original ones.\n",
    "#The focus of this project is explanatory graphs, so the cleaning of the data\n",
    "#has a secondary role.\n",
    "exchange_rates.rename(columns={'[US dollar ]': 'US_dollar',\n",
    "                               'Period\\\\Unit:': 'Time'},\n",
    "                      inplace=True)\n",
    "exchange_rates['Time'] = pd.to_datetime(exchange_rates['Time'])\n",
    "exchange_rates.sort_values('Time', inplace=True)\n",
    "exchange_rates.reset_index(drop=True, inplace=True)\n"
   ]
  },
  {
   "cell_type": "code",
   "execution_count": 5,
   "metadata": {},
   "outputs": [
    {
     "data": {
      "text/plain": [
       "-         62\n",
       "1.2276     9\n",
       "1.1215     8\n",
       "1.1305     7\n",
       "1.0867     6\n",
       "          ..\n",
       "1.2830     1\n",
       "1.2892     1\n",
       "1.2750     1\n",
       "1.2813     1\n",
       "1.2822     1\n",
       "Name: US_dollar, Length: 3528, dtype: int64"
      ]
     },
     "execution_count": 5,
     "metadata": {},
     "output_type": "execute_result"
    }
   ],
   "source": [
    "euro_to_dollar=exchange_rates[['Time','US_dollar']]\n",
    "exchange_rates['US_dollar'].value_counts()"
   ]
  },
  {
   "cell_type": "code",
   "execution_count": 6,
   "metadata": {},
   "outputs": [],
   "source": [
    "to_drop=euro_to_dollar['US_dollar'][euro_to_dollar['US_dollar']=='-']\n",
    "\n",
    "euro_to_dollar=euro_to_dollar.drop(to_drop.index,axis=0)"
   ]
  },
  {
   "cell_type": "code",
   "execution_count": 7,
   "metadata": {},
   "outputs": [],
   "source": [
    "euro_to_dollar['US_dollar']=euro_to_dollar['US_dollar'].astype(float)\n"
   ]
  },
  {
   "cell_type": "code",
   "execution_count": 8,
   "metadata": {},
   "outputs": [],
   "source": [
    "euro_to_dollar['rolling_mean']=euro_to_dollar['US_dollar'].rolling(30).mean()"
   ]
  },
  {
   "cell_type": "markdown",
   "metadata": {},
   "source": [
    "## Coming up with an idea.\n",
    "We will analyze and compare how the euro-dollar rate changed during the 2007-2008 financial crisis. We can also show the data from 2006 and 2009 for comparison."
   ]
  },
  {
   "cell_type": "code",
   "execution_count": 118,
   "metadata": {},
   "outputs": [
    {
     "data": {
      "image/png": "[encoded data removed]",
      "text/plain": [
       "<Figure size 800x300 with 1 Axes>"
      ]
     },
     "metadata": {},
     "output_type": "display_data"
    }
   ],
   "source": [
    "import matplotlib.style as style\n",
    "\n",
    "style.use('ggplot')\n",
    "\n",
    "condition=(euro_to_dollar['Time'].dt.year<=2009)&(euro_to_dollar['Time'].dt.year>=2006)\n",
    "condition2=(euro_to_dollar['Time'].dt.year<=2008)&(euro_to_dollar['Time'].dt.year>=2007)\n",
    "\n",
    "fin_cry=euro_to_dollar[condition]\n",
    "fin_cry_peak=euro_to_dollar[condition2]\n",
    "\n",
    "fig,ax=plt.subplots(figsize=(8,3))\n",
    "\n",
    "ax.plot(fin_cry['Time'],fin_cry['rolling_mean'],linewidth=1,color='#fa8f7a')\n",
    "ax.plot(fin_cry_peak['Time'],fin_cry_peak['rolling_mean'],linewidth=2.5,color='#ec2f09')\n",
    "\n",
    "\n",
    "ax.axvspan(xmin=733130.0, xmax=733280.0, ymin=0,facecolor='#9c9c9c',alpha=0.5,edgecolor='black')\n",
    "dates=[732312, 732677, 733042, 733408,\n",
    "     733773]\n",
    "tickyears=['2006','2007','2008','2009','2010']\n",
    "ax.set_xticks(dates)\n",
    "ax.set_xticklabels(tickyears)\n",
    "ax.tick_params(top=False,\n",
    "               bottom=False,\n",
    "               left=False,\n",
    "               right=False,\n",
    "               labelleft=True,\n",
    "               labelbottom=True)\n",
    "\n",
    "ax.text(732245,1.67,s='1.59 USD for 1 EUR: The peak of the 2007-2008 financial crisis',weight='bold',size=14)\n",
    "ax.text(732245,1.62,s='EUR-USD exchange rates between 2006 and 2010',size=12)\n",
    "\n",
    "fig.set_facecolor('#d9d9d9')"
   ]
  },
  {
   "cell_type": "code",
   "execution_count": null,
   "metadata": {},
   "outputs": [],
   "source": []
  }
 ],
 "metadata": {
  "kernelspec": {
   "display_name": "Python 3",
   "language": "python",
   "name": "python3"
  },
  "language_info": {
   "codemirror_mode": {
    "name": "ipython",
    "version": 3
   },
   "file_extension": ".py",
   "mimetype": "text/x-python",
   "name": "python",
   "nbconvert_exporter": "python",
   "pygments_lexer": "ipython3",
   "version": "3.8.2"
  }
 },
 "nbformat": 4,
 "nbformat_minor": 4
}
